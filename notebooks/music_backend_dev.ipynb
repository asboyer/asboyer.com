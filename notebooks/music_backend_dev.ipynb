{
 "cells": [
  {
   "cell_type": "code",
   "execution_count": 14,
   "metadata": {},
   "outputs": [],
   "source": [
    "import spotipy\n",
    "import json\n",
    "import sys\n",
    "import pandas as pd\n",
    "from spotipy.oauth2 import SpotifyClientCredentials\n",
    "sys.path.append('../secret')\n",
    "from api_keys import client_id, client_secret"
   ]
  },
  {
   "cell_type": "code",
   "execution_count": 3,
   "metadata": {},
   "outputs": [],
   "source": [
    "client_credentials_manager = SpotifyClientCredentials(client_id, client_secret)\n",
    "sp = spotipy.Spotify(client_credentials_manager=client_credentials_manager)"
   ]
  },
  {
   "cell_type": "code",
   "execution_count": 12,
   "metadata": {},
   "outputs": [],
   "source": [
    "album = 'ye'\n",
    "artist = 'Kanye West'"
   ]
  },
  {
   "cell_type": "code",
   "execution_count": 21,
   "metadata": {},
   "outputs": [],
   "source": [
    "q = \"artist:{} album:{}\"\n",
    "results = sp.search(q.format(artist, album), limit=2, type='album')"
   ]
  },
  {
   "cell_type": "code",
   "execution_count": 29,
   "metadata": {},
   "outputs": [
    {
     "data": {
      "text/html": [
       "<div>\n",
       "<style scoped>\n",
       "    .dataframe tbody tr th:only-of-type {\n",
       "        vertical-align: middle;\n",
       "    }\n",
       "\n",
       "    .dataframe tbody tr th {\n",
       "        vertical-align: top;\n",
       "    }\n",
       "\n",
       "    .dataframe thead th {\n",
       "        text-align: right;\n",
       "    }\n",
       "</style>\n",
       "<table border=\"1\" class=\"dataframe\">\n",
       "  <thead>\n",
       "    <tr style=\"text-align: right;\">\n",
       "      <th></th>\n",
       "      <th>0</th>\n",
       "      <th>1</th>\n",
       "    </tr>\n",
       "  </thead>\n",
       "  <tbody>\n",
       "    <tr>\n",
       "      <th>album_type</th>\n",
       "      <td>album</td>\n",
       "      <td>album</td>\n",
       "    </tr>\n",
       "    <tr>\n",
       "      <th>artists</th>\n",
       "      <td>[{'external_urls': {'spotify': 'https://open.s...</td>\n",
       "      <td>[{'external_urls': {'spotify': 'https://open.s...</td>\n",
       "    </tr>\n",
       "    <tr>\n",
       "      <th>available_markets</th>\n",
       "      <td>[AD, AE, AG, AL, AM, AO, AR, AT, AU, AZ, BA, B...</td>\n",
       "      <td>[AD, AE, AG, AL, AM, AO, AR, AT, AU, AZ, BA, B...</td>\n",
       "    </tr>\n",
       "    <tr>\n",
       "      <th>external_urls</th>\n",
       "      <td>{'spotify': 'https://open.spotify.com/album/7D...</td>\n",
       "      <td>{'spotify': 'https://open.spotify.com/album/2E...</td>\n",
       "    </tr>\n",
       "    <tr>\n",
       "      <th>href</th>\n",
       "      <td>https://api.spotify.com/v1/albums/7D2NdGvBHIav...</td>\n",
       "      <td>https://api.spotify.com/v1/albums/2Ek1q2haOnxV...</td>\n",
       "    </tr>\n",
       "    <tr>\n",
       "      <th>id</th>\n",
       "      <td>7D2NdGvBHIavgLhmcwhluK</td>\n",
       "      <td>2Ek1q2haOnxVqhvVKqMvJe</td>\n",
       "    </tr>\n",
       "    <tr>\n",
       "      <th>images</th>\n",
       "      <td>[{'height': 640, 'url': 'https://i.scdn.co/ima...</td>\n",
       "      <td>[{'height': 640, 'url': 'https://i.scdn.co/ima...</td>\n",
       "    </tr>\n",
       "    <tr>\n",
       "      <th>name</th>\n",
       "      <td>Yeezus</td>\n",
       "      <td>ye</td>\n",
       "    </tr>\n",
       "    <tr>\n",
       "      <th>release_date</th>\n",
       "      <td>2013-06-18</td>\n",
       "      <td>2018-06-01</td>\n",
       "    </tr>\n",
       "    <tr>\n",
       "      <th>release_date_precision</th>\n",
       "      <td>day</td>\n",
       "      <td>day</td>\n",
       "    </tr>\n",
       "    <tr>\n",
       "      <th>total_tracks</th>\n",
       "      <td>10</td>\n",
       "      <td>7</td>\n",
       "    </tr>\n",
       "    <tr>\n",
       "      <th>type</th>\n",
       "      <td>album</td>\n",
       "      <td>album</td>\n",
       "    </tr>\n",
       "    <tr>\n",
       "      <th>uri</th>\n",
       "      <td>spotify:album:7D2NdGvBHIavgLhmcwhluK</td>\n",
       "      <td>spotify:album:2Ek1q2haOnxVqhvVKqMvJe</td>\n",
       "    </tr>\n",
       "  </tbody>\n",
       "</table>\n",
       "</div>"
      ],
      "text/plain": [
       "                                                                        0  \\\n",
       "album_type                                                          album   \n",
       "artists                 [{'external_urls': {'spotify': 'https://open.s...   \n",
       "available_markets       [AD, AE, AG, AL, AM, AO, AR, AT, AU, AZ, BA, B...   \n",
       "external_urls           {'spotify': 'https://open.spotify.com/album/7D...   \n",
       "href                    https://api.spotify.com/v1/albums/7D2NdGvBHIav...   \n",
       "id                                                 7D2NdGvBHIavgLhmcwhluK   \n",
       "images                  [{'height': 640, 'url': 'https://i.scdn.co/ima...   \n",
       "name                                                               Yeezus   \n",
       "release_date                                                   2013-06-18   \n",
       "release_date_precision                                                day   \n",
       "total_tracks                                                           10   \n",
       "type                                                                album   \n",
       "uri                                  spotify:album:7D2NdGvBHIavgLhmcwhluK   \n",
       "\n",
       "                                                                        1  \n",
       "album_type                                                          album  \n",
       "artists                 [{'external_urls': {'spotify': 'https://open.s...  \n",
       "available_markets       [AD, AE, AG, AL, AM, AO, AR, AT, AU, AZ, BA, B...  \n",
       "external_urls           {'spotify': 'https://open.spotify.com/album/2E...  \n",
       "href                    https://api.spotify.com/v1/albums/2Ek1q2haOnxV...  \n",
       "id                                                 2Ek1q2haOnxVqhvVKqMvJe  \n",
       "images                  [{'height': 640, 'url': 'https://i.scdn.co/ima...  \n",
       "name                                                                   ye  \n",
       "release_date                                                   2018-06-01  \n",
       "release_date_precision                                                day  \n",
       "total_tracks                                                            7  \n",
       "type                                                                album  \n",
       "uri                                  spotify:album:2Ek1q2haOnxVqhvVKqMvJe  "
      ]
     },
     "execution_count": 29,
     "metadata": {},
     "output_type": "execute_result"
    }
   ],
   "source": [
    "albums = {}\n",
    "i = 0\n",
    "for result in results['albums']['items']:\n",
    "    albums[str(i)] = result\n",
    "    i += 1\n",
    "pd.DataFrame(albums)"
   ]
  },
  {
   "cell_type": "code",
   "execution_count": null,
   "metadata": {},
   "outputs": [],
   "source": []
  }
 ],
 "metadata": {
  "kernelspec": {
   "display_name": "Python 3",
   "language": "python",
   "name": "python3"
  },
  "language_info": {
   "codemirror_mode": {
    "name": "ipython",
    "version": 3
   },
   "file_extension": ".py",
   "mimetype": "text/x-python",
   "name": "python",
   "nbconvert_exporter": "python",
   "pygments_lexer": "ipython3",
   "version": "3.8.5"
  }
 },
 "nbformat": 4,
 "nbformat_minor": 4
}
